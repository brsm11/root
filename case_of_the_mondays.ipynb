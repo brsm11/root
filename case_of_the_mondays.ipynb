{
 "cells": [
  {
   "cell_type": "code",
   "execution_count": 3,
   "metadata": {},
   "outputs": [],
   "source": [
    "import load_file as lf\n",
    "import pandas as pd\n",
    "#import myplot as mp\n",
    "\n",
    "\n",
    "datadir = '/Users/bryan/root/data/monday/'\n",
    "datafile = 'app_bundle.gzip'\n",
    "\n",
    "df = lf.temp_load((datadir+datafile))"
   ]
  },
  {
   "cell_type": "code",
   "execution_count": null,
   "metadata": {},
   "outputs": [],
   "source": [
    "df.describe()"
   ]
  },
  {
   "cell_type": "code",
   "execution_count": null,
   "metadata": {},
   "outputs": [],
   "source": [
    "df1 = lf.temp_load((datadir+'bid_floor.gzip'))\n",
    "df1.describe()"
   ]
  },
  {
   "cell_type": "code",
   "execution_count": null,
   "metadata": {},
   "outputs": [],
   "source": [
    "df2 = lf.temp_load((datadir+'category.gzip'))\n",
    "df2.describe()"
   ]
  },
  {
   "cell_type": "code",
   "execution_count": null,
   "metadata": {},
   "outputs": [],
   "source": [
    "df3 = lf.temp_load((datadir+'clicks.gzip'))\n",
    "df3.describe()"
   ]
  },
  {
   "cell_type": "code",
   "execution_count": null,
   "metadata": {},
   "outputs": [],
   "source": [
    "df4 = lf.temp_load((datadir+'creative_size.gzip'))\n",
    "df4['creative_size'].unique()"
   ]
  },
  {
   "cell_type": "code",
   "execution_count": null,
   "metadata": {},
   "outputs": [],
   "source": [
    "df5 = lf.temp_load((datadir+'creative_type.gzip'))\n",
    "df5.describe()"
   ]
  },
  {
   "cell_type": "code",
   "execution_count": null,
   "metadata": {},
   "outputs": [],
   "source": [
    "df6 = lf.temp_load((datadir+'geo_zip.gzip'))\n",
    "df6.describe()"
   ]
  },
  {
   "cell_type": "code",
   "execution_count": null,
   "metadata": {},
   "outputs": [],
   "source": [
    "df7 = lf.temp_load((datadir+'inventory_interstitial.gzip'))\n",
    "df7.describe()"
   ]
  },
  {
   "cell_type": "code",
   "execution_count": null,
   "metadata": {},
   "outputs": [],
   "source": [
    "df8 = lf.temp_load((datadir+'inventory_source.gzip'))\n",
    "df8.describe()\n",
    "df8['inventory_source'].unique()"
   ]
  },
  {
   "cell_type": "code",
   "execution_count": null,
   "metadata": {},
   "outputs": [],
   "source": [
    "df9 = lf.temp_load((datadir+'platform_bandwidth.gzip'))\n",
    "df9.describe()"
   ]
  },
  {
   "cell_type": "code",
   "execution_count": null,
   "metadata": {},
   "outputs": [],
   "source": [
    "df10 = lf.temp_load((datadir+'platform_carrier.gzip'))\n",
    "df10.describe()\n",
    "df10['platform_carrier'].unique()"
   ]
  },
  {
   "cell_type": "code",
   "execution_count": null,
   "metadata": {},
   "outputs": [],
   "source": [
    "df11 = lf.temp_load((datadir+'platform_device_make.gzip'))\n",
    "df11.describe()\n",
    "df11['platform_device_make'].unique()"
   ]
  },
  {
   "cell_type": "code",
   "execution_count": null,
   "metadata": {},
   "outputs": [],
   "source": [
    "df12 = lf.temp_load((datadir+'platform_device_model.gzip'))\n",
    "df12.describe()"
   ]
  },
  {
   "cell_type": "code",
   "execution_count": null,
   "metadata": {},
   "outputs": [],
   "source": [
    "df13 = lf.temp_load((datadir+'platform_device_screen_size.gzip'))\n",
    "df13.describe()"
   ]
  },
  {
   "cell_type": "code",
   "execution_count": null,
   "metadata": {},
   "outputs": [],
   "source": [
    "df14 = lf.temp_load((datadir+'rewarded.gzip'))\n",
    "df14.describe()"
   ]
  },
  {
   "cell_type": "code",
   "execution_count": null,
   "metadata": {},
   "outputs": [],
   "source": [
    "df15 = lf.temp_load((datadir+'segments.gzip'))\n",
    "df15.describe()"
   ]
  },
  {
   "cell_type": "code",
   "execution_count": null,
   "metadata": {},
   "outputs": [],
   "source": []
  }
 ],
 "metadata": {
  "kernelspec": {
   "display_name": "Python 3",
   "language": "python",
   "name": "python3"
  },
  "language_info": {
   "codemirror_mode": {
    "name": "ipython",
    "version": 3
   },
   "file_extension": ".py",
   "mimetype": "text/x-python",
   "name": "python",
   "nbconvert_exporter": "python",
   "pygments_lexer": "ipython3",
   "version": "3.6.5"
  }
 },
 "nbformat": 4,
 "nbformat_minor": 2
}
